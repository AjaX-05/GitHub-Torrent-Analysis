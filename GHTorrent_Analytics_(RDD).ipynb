{
 "cells": [
  {
   "cell_type": "markdown",
   "metadata": {
    "id": "9nrTNalW81Uo"
   },
   "source": [
    "# **GHTorrent Data Analytics with PySpark RDD: An unstructured case study**\n",
    "\n",
    "\n",
    "##### source 1: https://ghtorrent.org\n",
    "##### source 2: https://ghtorrent.org/downloads.html\n"
   ]
  },
  {
   "cell_type": "code",
   "execution_count": 1,
   "metadata": {
    "id": "ghTJybh281Ur"
   },
   "outputs": [
    {
     "name": "stdout",
     "output_type": "stream",
     "text": [
      "Requirement already satisfied: pyspark in /home/bigdata/anaconda3/lib/python3.8/site-packages (3.5.1)\r\n",
      "Requirement already satisfied: py4j==0.10.9.7 in /home/bigdata/anaconda3/lib/python3.8/site-packages (from pyspark) (0.10.9.7)\r\n"
     ]
    }
   ],
   "source": [
    "########## ONLY in Colab ##########\n",
    "!pip3 install pyspark\n",
    "########## ONLY in Colab ##########"
   ]
  },
  {
   "cell_type": "code",
   "execution_count": 2,
   "metadata": {
    "id": "Lv29DcwT81Ut"
   },
   "outputs": [],
   "source": [
    "########## ONLY in Ubuntu Machine ##########\n",
    "# Load Spark engine\n",
    "!pip3 install -q findspark\n",
    "import findspark\n",
    "findspark.init()\n",
    "########## ONLY in Ubuntu Machine ##########"
   ]
  },
  {
   "cell_type": "code",
   "execution_count": 3,
   "metadata": {
    "id": "06d5GLeN81Ut"
   },
   "outputs": [
    {
     "name": "stdout",
     "output_type": "stream",
     "text": [
      "<SparkContext master=local[*] appName=GHTorrent_PySpark>\n",
      "Ready to go!\n"
     ]
    }
   ],
   "source": [
    "from pyspark import SparkContext, SparkConf\n",
    "\n",
    "# Initializing Spark\n",
    "conf = SparkConf().setAppName(\"GHTorrent_PySpark\").setMaster(\"local[*]\")\n",
    "sc = SparkContext(conf=conf)\n",
    "print(sc)\n",
    "print(\"Ready to go!\")"
   ]
  },
  {
   "cell_type": "code",
   "execution_count": 4,
   "metadata": {
    "id": "M3XviRdcVnwx"
   },
   "outputs": [],
   "source": [
    "# ########## ONLY in Colab ##########\n",
    "# from google.colab import drive\n",
    "# drive.mount('/content/drive')\n",
    "# ########## ONLY in Colab ##########"
   ]
  },
  {
   "cell_type": "code",
   "execution_count": 5,
   "metadata": {
    "id": "UGorHKN581Uu"
   },
   "outputs": [],
   "source": [
    "# Read and Load Data to Spark\n",
    "rdd = sc.textFile(\"./Files/ghtorrent-logs.txt.gz\")"
   ]
  },
  {
   "cell_type": "code",
   "execution_count": 6,
   "metadata": {
    "id": "6O_dV30S81Uu"
   },
   "outputs": [
    {
     "data": {
      "text/plain": [
       "./Files/ghtorrent-logs.txt.gz MapPartitionsRDD[1] at textFile at NativeMethodAccessorImpl.java:0"
      ]
     },
     "execution_count": 6,
     "metadata": {},
     "output_type": "execute_result"
    }
   ],
   "source": [
    "# Repartition and Cache Data:\n",
    "rdd.repartition(10)\n",
    "\n",
    "from pyspark import StorageLevel\n",
    "rdd.persist(storageLevel=StorageLevel.MEMORY_AND_DISK)"
   ]
  },
  {
   "cell_type": "code",
   "execution_count": 7,
   "metadata": {},
   "outputs": [
    {
     "data": {
      "text/plain": [
       "2"
      ]
     },
     "execution_count": 7,
     "metadata": {},
     "output_type": "execute_result"
    }
   ],
   "source": [
    "sc.defaultParallelism"
   ]
  },
  {
   "cell_type": "markdown",
   "metadata": {
    "id": "zl7nmy6S81Uw"
   },
   "source": [
    "## Question 1: Count the number of records and get twenty records randomly.\n"
   ]
  },
  {
   "cell_type": "code",
   "execution_count": 8,
   "metadata": {
    "id": "HG1ypizS81Ux"
   },
   "outputs": [
    {
     "data": {
      "text/plain": [
       "9669788"
      ]
     },
     "execution_count": 8,
     "metadata": {},
     "output_type": "execute_result"
    }
   ],
   "source": [
    "rdd.count()"
   ]
  },
  {
   "cell_type": "code",
   "execution_count": 9,
   "metadata": {},
   "outputs": [
    {
     "data": {
      "text/plain": [
       "['DEBUG, 2017-03-23T12:00:58+00:00, ghtorrent-19 -- ghtorrent.rb: Repo ccurro/tiefvision exists',\n",
       " 'DEBUG, 2017-03-23T14:07:36+00:00, ghtorrent-20 -- retriever.rb: issues drone/drone -> 1604 exists',\n",
       " 'INFO, 2017-03-23T10:07:20+00:00, ghtorrent-29 -- ghtorrent.rb: Added issue_event xcat2/xcat-core -> 2703/xcat2/xcat-core -> 2703/1008161947',\n",
       " 'INFO, 2017-03-23T09:17:58+00:00, ghtorrent-19 -- api_client.rb: Successful request. URL: https://api.github.com/repos/yuwangying/PyCTP/issues/17/labels?per_page=100, Remaining: 2192, Total: 85 ms',\n",
       " 'DEBUG, 2017-03-24T13:05:50+00:00, ghtorrent-47 -- ghtorrent.rb: Repo smcintosh881/343-accounting exists',\n",
       " 'DEBUG, 2017-03-23T10:12:50+00:00, ghtorrent-7 -- ghtorrent.rb: Transaction committed (30 ms)',\n",
       " 'DEBUG, 2017-03-23T10:42:40+00:00, ghtorrent-14 -- retriever.rb: Commit derlio/JieCaoVideoPlayer -> bd4b967d7e50256fab2e74f531013649d04e0246 exists',\n",
       " 'DEBUG, 2017-03-23T10:12:52+00:00, ghtorrent-7 -- ghtorrent.rb: User mithro exists',\n",
       " 'DEBUG, 2017-03-22T20:14:18+00:00, ghtorrent-27 -- ghtorrent.rb: Issue MahjongRepository/tenhou-python-bot->24 exists',\n",
       " 'DEBUG, 2017-03-23T11:19:39+00:00, ghtorrent-19 -- ghtorrent.rb: User liupengyuan exists',\n",
       " 'DEBUG, 2017-03-23T11:12:36+00:00, ghtorrent-14 -- retriever.rb: Commit erebe/cassandra-chef-cookbook -> d21f55166f45a3804c13e60f9b7ab73e3618f1fb exists',\n",
       " 'DEBUG, 2017-03-23T11:01:56+00:00, ghtorrent-16 -- ghtorrent.rb: Repo JackWangCUMT/jsoneditor exists',\n",
       " 'DEBUG, 2017-03-23T10:31:17+00:00, ghtorrent-41 -- ghtorrent.rb: Commit ovyx/HammerheadN -> bf56f0a6668cd399b5136d2216f24ec97f0ce716 exists',\n",
       " 'DEBUG, 2017-03-23T09:15:00+00:00, ghtorrent-19 -- ghtorrent.rb: Retrieving commits for fork shibolin930/Robust: strategy is fork_point',\n",
       " 'INFO, 2017-03-23T09:12:33+00:00, ghtorrent-26 -- api_client.rb: Successful request. URL: https://api.github.com/repos/lzhou1110/springfox-demos/labels/bug, Remaining: 3180, Total: 69 ms',\n",
       " 'DEBUG, 2017-03-23T11:11:50+00:00, ghtorrent-8 -- ghtorrent.rb: User ffachrial exists',\n",
       " 'DEBUG, 2017-03-23T11:05:54+00:00, ghtorrent-24 -- retriever.rb: Commit isimluk/party_registry -> 123a9558b3c34f2689d98ba0897ff6eb8928b84c exists',\n",
       " 'DEBUG, 2017-03-23T10:58:36+00:00, ghtorrent-28 -- api_client.rb: Sleeping for 101 seconds',\n",
       " 'INFO, 2017-03-23T12:50:22+00:00, ghtorrent-38 -- ghtorrent.rb: Added pullreq_commit a4f86d42de8a03f675a7fc26cc4ba0a9a60c83c2 to simonem/tiles-rapIoT -> 28',\n",
       " 'DEBUG, 2017-03-24T12:48:44+00:00, ghtorrent-49 -- ghtorrent.rb: Repo yuukikatagiri/animate.css exists']"
      ]
     },
     "execution_count": 9,
     "metadata": {},
     "output_type": "execute_result"
    }
   ],
   "source": [
    "rdd.takeSample(False,20 , seed=1234)"
   ]
  },
  {
   "cell_type": "markdown",
   "metadata": {
    "id": "ogaXjJV8tFYE"
   },
   "source": [
    "# **GHTorrent data format**\n",
    "Every line of this log file includes:\n",
    "1.   Logging level, one of `DEBUG`, `INFO`, `WARN`, `ERROR`\n",
    "2.   A timestamp\n",
    "3.   The downloader id\n",
    "4.   The logging stage including at least one of the following names:\n",
    "    *   `event_processing`\n",
    "    *   `ght_data_retrieval`\n",
    "    *   `api_client`\n",
    "    *   `retriever`\n",
    "    *   `ghtorrent`"
   ]
  },
  {
   "cell_type": "markdown",
   "metadata": {
    "id": "jqfD3Thrwsfx"
   },
   "source": [
    "## Question 2: Get the number of lines with both `Transaction` or `Repo` information.\n"
   ]
  },
  {
   "cell_type": "code",
   "execution_count": 10,
   "metadata": {
    "id": "BdoEimMywty5"
   },
   "outputs": [
    {
     "data": {
      "text/plain": [
       "['retriever',\n",
       " 'rb',\n",
       " 'repo_ol',\n",
       " 'commit',\n",
       " 'mzvast',\n",
       " 'flappyfrog',\n",
       " '80bf5c5fde7be6274a2721422f4d9a773583f73c',\n",
       " 'exists']"
      ]
     },
     "execution_count": 10,
     "metadata": {},
     "output_type": "execute_result"
    }
   ],
   "source": [
    "import re\n",
    "def filter_words(line):\n",
    "    return re.compile(\"\\w+\").findall(line.lower())\n",
    "filter_words(\"retriever.rb: repo_ol Commit mzvast/FlappyFrog -> 80bf5c5fde7be6274a2721422f4d9a773583f73c exists\")"
   ]
  },
  {
   "cell_type": "code",
   "execution_count": 15,
   "metadata": {},
   "outputs": [],
   "source": [
    "# Transaction\n",
    "rdd_trans = rdd.filter(lambda x: \"transaction\" in filter_words(x))"
   ]
  },
  {
   "cell_type": "code",
   "execution_count": 16,
   "metadata": {},
   "outputs": [],
   "source": [
    "rdd_repo = rdd.filter(lambda x: \"repo\" in filter_words(x))"
   ]
  },
  {
   "cell_type": "code",
   "execution_count": 27,
   "metadata": {},
   "outputs": [
    {
     "data": {
      "text/plain": [
       "['INFO, 2017-03-23T09:13:16+00:00, ghtorrent-9 -- ghtorrent.rb: Repo xuminwlt/tcc-transaction is a fork of changmingxie/tcc-transaction',\n",
       " 'DEBUG, 2017-03-23T09:13:17+00:00, ghtorrent-9 -- retriever.rb: Repo xuminwlt -> tcc-transaction exists',\n",
       " 'DEBUG, 2017-03-23T09:13:27+00:00, ghtorrent-9 -- ghtorrent.rb: Repo xuminwlt/tcc-transaction exists',\n",
       " 'DEBUG, 2017-03-23T09:26:01+00:00, ghtorrent-11 -- ghtorrent.rb: Repo jwpttcg66/redis-game-transaction exists',\n",
       " 'DEBUG, 2017-03-23T09:13:27+00:00, ghtorrent-9 -- ghtorrent.rb: Repo xuminwlt/tcc-transaction exists',\n",
       " 'DEBUG, 2017-03-23T09:26:01+00:00, ghtorrent-11 -- ghtorrent.rb: Repo jwpttcg66/redis-game-transaction exists',\n",
       " 'DEBUG, 2017-03-23T09:13:17+00:00, ghtorrent-9 -- retriever.rb: Repo changmingxie -> tcc-transaction exists',\n",
       " 'DEBUG, 2017-03-23T09:13:17+00:00, ghtorrent-9 -- ghtorrent.rb: Repo xuminwlt/tcc-transaction exists',\n",
       " 'DEBUG, 2017-03-23T09:13:27+00:00, ghtorrent-9 -- ghtorrent.rb: Repo xuminwlt/tcc-transaction exists',\n",
       " 'INFO, 2017-03-23T09:13:17+00:00, ghtorrent-9 -- ghtorrent.rb: Added repo xuminwlt/tcc-transaction',\n",
       " 'DEBUG, 2017-03-23T10:28:03+00:00, ghtorrent-33 -- ghtorrent.rb: Repo jwpttcg66/redis-game-transaction exists',\n",
       " 'DEBUG, 2017-03-23T09:13:26+00:00, ghtorrent-9 -- ghtorrent.rb: Association of commit 5793a7df39a26b46082cafb59f287e2dc2cf9796 with repo xuminwlt/tcc-transaction exists',\n",
       " 'DEBUG, 2017-03-23T09:13:17+00:00, ghtorrent-9 -- ghtorrent.rb: Repo xuminwlt/tcc-transaction exists',\n",
       " 'INFO, 2017-03-23T09:13:16+00:00, ghtorrent-9 -- retriever.rb: Added repo xuminwlt -> tcc-transaction',\n",
       " 'DEBUG, 2017-03-23T09:13:26+00:00, ghtorrent-9 -- ghtorrent.rb: Repo xuminwlt/tcc-transaction exists',\n",
       " 'DEBUG, 2017-03-23T09:13:28+00:00, ghtorrent-9 -- ghtorrent.rb: Repo xuminwlt/tcc-transaction exists',\n",
       " 'DEBUG, 2017-03-23T09:13:26+00:00, ghtorrent-9 -- ghtorrent.rb: Repo xuminwlt/tcc-transaction exists',\n",
       " 'DEBUG, 2017-03-23T09:13:17+00:00, ghtorrent-9 -- ghtorrent.rb: Repo changmingxie/tcc-transaction exists',\n",
       " 'DEBUG, 2017-03-23T09:27:31+00:00, ghtorrent-24 -- ghtorrent.rb: Repo changmingxie/tcc-transaction exists',\n",
       " 'DEBUG, 2017-03-23T09:26:01+00:00, ghtorrent-11 -- ghtorrent.rb: Repo jwpttcg66/redis-game-transaction exists',\n",
       " 'DEBUG, 2017-03-23T09:13:27+00:00, ghtorrent-9 -- ghtorrent.rb: Repo xuminwlt/tcc-transaction exists',\n",
       " 'DEBUG, 2017-03-23T11:09:37+00:00, ghtorrent-1 -- ghtorrent.rb: Repo pilkyoon/spring-transaction exists',\n",
       " 'DEBUG, 2017-03-23T09:26:01+00:00, ghtorrent-11 -- ghtorrent.rb: Repo jwpttcg66/redis-game-transaction exists',\n",
       " 'DEBUG, 2017-03-23T09:13:26+00:00, ghtorrent-9 -- ghtorrent.rb: Repo xuminwlt/tcc-transaction exists',\n",
       " 'DEBUG, 2017-03-23T09:13:17+00:00, ghtorrent-9 -- ghtorrent.rb: Repo xuminwlt/tcc-transaction exists',\n",
       " 'DEBUG, 2017-03-23T09:26:01+00:00, ghtorrent-11 -- ghtorrent.rb: Repo jwpttcg66/redis-game-transaction exists',\n",
       " 'DEBUG, 2017-03-23T09:13:16+00:00, ghtorrent-9 -- ghtorrent.rb: Repo xuminwlt/tcc-transaction exists',\n",
       " 'DEBUG, 2017-03-23T09:13:17+00:00, ghtorrent-9 -- retriever.rb: Repo changmingxie -> tcc-transaction exists',\n",
       " 'DEBUG, 2017-03-23T09:26:01+00:00, ghtorrent-11 -- ghtorrent.rb: Repo jwpttcg66/redis-game-transaction exists',\n",
       " 'DEBUG, 2017-03-23T09:13:28+00:00, ghtorrent-9 -- ghtorrent.rb: Repo xuminwlt/tcc-transaction exists',\n",
       " 'DEBUG, 2017-03-23T13:03:33+00:00, ghtorrent-42 -- ghtorrent.rb: Repo jwpttcg66/redis-game-transaction exists',\n",
       " 'DEBUG, 2017-03-23T09:13:27+00:00, ghtorrent-9 -- ghtorrent.rb: Repo xuminwlt/tcc-transaction exists',\n",
       " 'DEBUG, 2017-03-23T09:13:27+00:00, ghtorrent-9 -- ghtorrent.rb: Repo xuminwlt/tcc-transaction exists',\n",
       " 'DEBUG, 2017-03-23T09:13:16+00:00, ghtorrent-9 -- ghtorrent.rb: Repo changmingxie/tcc-transaction exists',\n",
       " 'DEBUG, 2017-03-23T09:13:17+00:00, ghtorrent-9 -- ghtorrent.rb: Repo xuminwlt/tcc-transaction exists',\n",
       " 'DEBUG, 2017-03-23T09:26:01+00:00, ghtorrent-11 -- ghtorrent.rb: Repo jwpttcg66/redis-game-transaction exists',\n",
       " 'DEBUG, 2017-03-23T09:13:27+00:00, ghtorrent-9 -- ghtorrent.rb: Repo xuminwlt/tcc-transaction exists',\n",
       " 'DEBUG, 2017-03-23T09:13:27+00:00, ghtorrent-9 -- ghtorrent.rb: Repo xuminwlt/tcc-transaction exists',\n",
       " 'DEBUG, 2017-03-23T09:26:01+00:00, ghtorrent-11 -- ghtorrent.rb: Repo jwpttcg66/redis-game-transaction exists',\n",
       " 'DEBUG, 2017-03-23T09:13:27+00:00, ghtorrent-9 -- ghtorrent.rb: Repo xuminwlt/tcc-transaction exists',\n",
       " 'INFO, 2017-03-23T09:13:17+00:00, ghtorrent-9 -- ghtorrent.rb: Repo xuminwlt/tcc-transaction was forked at changmingxie/tcc-transaction:5793a7df39a26b46082cafb59f287e2dc2cf9796',\n",
       " 'DEBUG, 2017-03-23T09:13:17+00:00, ghtorrent-9 -- ghtorrent.rb: Repo xuminwlt/tcc-transaction exists',\n",
       " 'DEBUG, 2017-03-23T09:13:27+00:00, ghtorrent-9 -- ghtorrent.rb: Repo xuminwlt/tcc-transaction exists']"
      ]
     },
     "execution_count": 27,
     "metadata": {},
     "output_type": "execute_result"
    }
   ],
   "source": [
    "rdd.filter(lambda x: \"transaction\" in filter_words(x)).filter(lambda x: \"repo\" in filter_words(x)).collect()"
   ]
  },
  {
   "cell_type": "code",
   "execution_count": 24,
   "metadata": {},
   "outputs": [
    {
     "data": {
      "text/plain": [
       "1846067"
      ]
     },
     "execution_count": 24,
     "metadata": {},
     "output_type": "execute_result"
    }
   ],
   "source": [
    "rdd_trans_repo.count()"
   ]
  },
  {
   "cell_type": "code",
   "execution_count": 28,
   "metadata": {},
   "outputs": [
    {
     "data": {
      "text/plain": [
       "19"
      ]
     },
     "execution_count": 28,
     "metadata": {},
     "output_type": "execute_result"
    }
   ],
   "source": [
    "rdd_trans.intersection(rdd_repo).count()"
   ]
  },
  {
   "cell_type": "code",
   "execution_count": 29,
   "metadata": {},
   "outputs": [
    {
     "data": {
      "text/plain": [
       "PythonRDD[46] at RDD at PythonRDD.scala:53"
      ]
     },
     "execution_count": 29,
     "metadata": {},
     "output_type": "execute_result"
    }
   ],
   "source": [
    "rdd_repoepo.intersection(rdd_trans)"
   ]
  },
  {
   "cell_type": "markdown",
   "metadata": {
    "id": "PuYhTunZ5Mlj"
   },
   "source": [
    "## Question 3: Get the number of lines including `web link` for `WARN` logging levels."
   ]
  },
  {
   "cell_type": "code",
   "execution_count": 51,
   "metadata": {
    "id": "isKnxJ-cXTAo"
   },
   "outputs": [
    {
     "data": {
      "text/plain": [
       "95271"
      ]
     },
     "execution_count": 51,
     "metadata": {},
     "output_type": "execute_result"
    }
   ],
   "source": [
    "rdd.filter(lambda x: x.split(\",\")[0] == \"WARN\").filter(lambda x: \"URL\" in x).count()"
   ]
  },
  {
   "cell_type": "code",
   "execution_count": 52,
   "metadata": {},
   "outputs": [
    {
     "data": {
      "text/plain": [
       "['WARN, 2017-03-23T20:04:28+00:00, ghtorrent-13 -- api_client.rb: Failed request. URL: https://api.github.com/repos/greatfakeman/Tabchi/commits?sha=Tabchi&per_page=100, Status code: 404, Status: Not Found, Access: ac6168f8776, IP: 0.0.0.0, Remaining: 3031',\n",
       " 'WARN, 2017-03-24T00:03:32+00:00, ghtorrent-13 -- api_client.rb: Failed request. URL: https://api.github.com/repos/greatfakeman/Tabchi/commits?sha=Tabchi&per_page=100, Status code: 404, Status: Not Found, Access: ac6168f8776, IP: 0.0.0.0, Remaining: 2663',\n",
       " 'WARN, 2017-03-23T16:04:59+00:00, ghtorrent-13 -- api_client.rb: Failed request. URL: https://api.github.com/repos/greatfakeman/Tabchi/commits?sha=Tabchi&per_page=100, Status code: 404, Status: Not Found, Access: ac6168f8776, IP: 0.0.0.0, Remaining: 2914',\n",
       " 'WARN, 2017-03-24T01:03:21+00:00, ghtorrent-13 -- api_client.rb: Failed request. URL: https://api.github.com/repos/greatfakeman/Tabchi/commits?sha=Tabchi&per_page=100, Status code: 404, Status: Not Found, Access: ac6168f8776, IP: 0.0.0.0, Remaining: 2754',\n",
       " 'WARN, 2017-03-23T13:00:25+00:00, ghtorrent-21 -- api_client.rb: Failed request. URL: https://api.github.com/repos/coreyfarrell/docs?per_page=100, Status code: 401, Status: Unauthorized, Access: 46f11b5791b, IP: 0.0.0.0, Remaining: 38',\n",
       " 'WARN, 2017-03-24T01:00:45+00:00, ghtorrent-13 -- api_client.rb: Failed request. URL: https://api.github.com/repos/greatfakeman/Tabchi/commits?sha=Tabchi&per_page=100, Status code: 404, Status: Not Found, Access: ac6168f8776, IP: 0.0.0.0, Remaining: 4997',\n",
       " 'WARN, 2017-03-23T15:00:33+00:00, ghtorrent-21 -- api_client.rb: Failed request. URL: https://api.github.com/repos/duckduckgo/zeroclickinfo-fathead/issues/667/events?per_page=100, Status code: 401, Status: Unauthorized, Access: 46f11b5791b, IP: 0.0.0.0, Remaining: 45',\n",
       " 'WARN, 2017-03-22T20:13:46+00:00, ghtorrent-20 -- api_client.rb: Failed request. URL: https://api.github.com/repos/sandipan-techpro/hello-world/commits/ec1645cc9b2422bb3fa1a7f225908d618cabb339?per_page=100, Status code: 404, Status: Not Found, Access: 0f3c3c966eb, IP: 0.0.0.0, Remaining: 4334',\n",
       " 'WARN, 2017-03-23T13:02:09+00:00, ghtorrent-13 -- api_client.rb: Failed request. URL: https://api.github.com/repos/greatfakeman/Tabchi/commits?sha=Tabchi&per_page=100, Status code: 404, Status: Not Found, Access: ac6168f8776, IP: 0.0.0.0, Remaining: 4365',\n",
       " 'WARN, 2017-03-23T20:07:33+00:00, ghtorrent-13 -- api_client.rb: Failed request. URL: https://api.github.com/repos/greatfakeman/Tabchi/commits?sha=Tabchi&per_page=100, Status code: 404, Status: Not Found, Access: ac6168f8776, IP: 0.0.0.0, Remaining: 870',\n",
       " 'WARN, 2017-03-23T20:03:16+00:00, ghtorrent-13 -- api_client.rb: Failed request. URL: https://api.github.com/repos/greatfakeman/Tabchi/commits?sha=Tabchi&per_page=100, Status code: 404, Status: Not Found, Access: ac6168f8776, IP: 0.0.0.0, Remaining: 3560',\n",
       " 'WARN, 2017-03-23T16:08:29+00:00, ghtorrent-13 -- api_client.rb: Failed request. URL: https://api.github.com/repos/greatfakeman/Tabchi/commits?sha=Tabchi&per_page=100, Status code: 404, Status: Not Found, Access: ac6168f8776, IP: 0.0.0.0, Remaining: 959',\n",
       " 'WARN, 2017-03-23T10:38:22+00:00, ghtorrent-43 -- api_client.rb: Failed request. URL: https://api.github.com/repos/PrtLn/spring-demo-project?per_page=100, Status code: 404, Status: Not Found, Access: f2defbe3982, IP: 0.0.0.0, Remaining: 731',\n",
       " 'WARN, 2017-03-23T16:09:28+00:00, ghtorrent-13 -- api_client.rb: Failed request. URL: https://api.github.com/repos/greatfakeman/Tabchi/commits?sha=Tabchi&per_page=100, Status code: 404, Status: Not Found, Access: ac6168f8776, IP: 0.0.0.0, Remaining: 259',\n",
       " 'WARN, 2017-03-23T12:05:16+00:00, ghtorrent-13 -- api_client.rb: Failed request. URL: https://api.github.com/repos/greatfakeman/Tabchi/commits?sha=Tabchi&per_page=100, Status code: 404, Status: Not Found, Access: ac6168f8776, IP: 0.0.0.0, Remaining: 1200',\n",
       " 'WARN, 2017-03-23T14:03:51+00:00, ghtorrent-13 -- api_client.rb: Failed request. URL: https://api.github.com/repos/greatfakeman/Tabchi/commits?sha=Tabchi&per_page=100, Status code: 404, Status: Not Found, Access: ac6168f8776, IP: 0.0.0.0, Remaining: 2948',\n",
       " 'WARN, 2017-03-23T14:03:28+00:00, ghtorrent-13 -- api_client.rb: Failed request. URL: https://api.github.com/repos/greatfakeman/Tabchi/commits?sha=Tabchi&per_page=100, Status code: 404, Status: Not Found, Access: ac6168f8776, IP: 0.0.0.0, Remaining: 3210',\n",
       " 'WARN, 2017-03-23T17:07:28+00:00, ghtorrent-13 -- api_client.rb: Failed request. URL: https://api.github.com/repos/greatfakeman/Tabchi/commits?sha=Tabchi&per_page=100, Status code: 404, Status: Not Found, Access: ac6168f8776, IP: 0.0.0.0, Remaining: 1077',\n",
       " 'WARN, 2017-03-23T21:06:21+00:00, ghtorrent-13 -- api_client.rb: Failed request. URL: https://api.github.com/repos/greatfakeman/Tabchi/commits?sha=Tabchi&per_page=100, Status code: 404, Status: Not Found, Access: ac6168f8776, IP: 0.0.0.0, Remaining: 1559',\n",
       " 'WARN, 2017-03-23T20:08:13+00:00, ghtorrent-13 -- api_client.rb: Failed request. URL: https://api.github.com/repos/greatfakeman/Tabchi/commits?sha=Tabchi&per_page=100, Status code: 404, Status: Not Found, Access: ac6168f8776, IP: 0.0.0.0, Remaining: 386',\n",
       " 'WARN, 2017-03-23T16:01:52+00:00, ghtorrent-13 -- api_client.rb: Failed request. URL: https://api.github.com/repos/greatfakeman/Tabchi/commits?sha=Tabchi&per_page=100, Status code: 404, Status: Not Found, Access: ac6168f8776, IP: 0.0.0.0, Remaining: 4499',\n",
       " 'WARN, 2017-03-23T13:03:02+00:00, ghtorrent-13 -- api_client.rb: Failed request. URL: https://api.github.com/repos/greatfakeman/Tabchi/commits?sha=Tabchi&per_page=100, Status code: 404, Status: Not Found, Access: ac6168f8776, IP: 0.0.0.0, Remaining: 3722',\n",
       " 'WARN, 2017-03-23T14:04:18+00:00, ghtorrent-13 -- api_client.rb: Failed request. URL: https://api.github.com/repos/greatfakeman/Tabchi/commits?sha=Tabchi&per_page=100, Status code: 404, Status: Not Found, Access: ac6168f8776, IP: 0.0.0.0, Remaining: 2671',\n",
       " 'WARN, 2017-03-23T13:02:21+00:00, ghtorrent-13 -- api_client.rb: Failed request. URL: https://api.github.com/repos/greatfakeman/Tabchi/commits?sha=Tabchi&per_page=100, Status code: 404, Status: Not Found, Access: ac6168f8776, IP: 0.0.0.0, Remaining: 4244',\n",
       " 'WARN, 2017-03-23T11:04:29+00:00, ghtorrent-13 -- api_client.rb: Failed request. URL: https://api.github.com/repos/greatfakeman/Tabchi/commits?sha=Tabchi&per_page=100, Status code: 404, Status: Not Found, Access: ac6168f8776, IP: 0.0.0.0, Remaining: 1801',\n",
       " 'WARN, 2017-03-23T15:07:53+00:00, ghtorrent-13 -- api_client.rb: Failed request. URL: https://api.github.com/repos/greatfakeman/Tabchi/commits?sha=Tabchi&per_page=100, Status code: 404, Status: Not Found, Access: ac6168f8776, IP: 0.0.0.0, Remaining: 2326',\n",
       " 'WARN, 2017-03-23T20:01:38+00:00, ghtorrent-13 -- api_client.rb: Failed request. URL: https://api.github.com/repos/greatfakeman/Tabchi/commits?sha=Tabchi&per_page=100, Status code: 404, Status: Not Found, Access: ac6168f8776, IP: 0.0.0.0, Remaining: 4443',\n",
       " 'WARN, 2017-03-23T22:05:56+00:00, ghtorrent-13 -- api_client.rb: Failed request. URL: https://api.github.com/repos/greatfakeman/Tabchi/commits?sha=Tabchi&per_page=100, Status code: 404, Status: Not Found, Access: ac6168f8776, IP: 0.0.0.0, Remaining: 1075',\n",
       " 'WARN, 2017-03-23T10:23:39+00:00, ghtorrent-4 -- api_client.rb: Failed request. URL: https://api.github.com/repos/gabemartinez/maxjonathan?per_page=100, Status code: 404, Status: Not Found, Access: 5c7cf6cbe46, IP: 0.0.0.0, Remaining: 1583',\n",
       " 'WARN, 2017-03-23T20:05:24+00:00, ghtorrent-13 -- api_client.rb: Failed request. URL: https://api.github.com/repos/greatfakeman/Tabchi/commits?sha=Tabchi&per_page=100, Status code: 404, Status: Not Found, Access: ac6168f8776, IP: 0.0.0.0, Remaining: 2421',\n",
       " 'WARN, 2017-03-23T09:16:08+00:00, ghtorrent-41 -- api_client.rb: Failed request. URL: https://api.github.com/repos/avinson/LibreELEC.tv?per_page=100, Status code: 404, Status: Not Found, Access: 4f3213e3b52, IP: 0.0.0.0, Remaining: 2531',\n",
       " 'WARN, 2017-03-23T16:03:49+00:00, ghtorrent-13 -- api_client.rb: Failed request. URL: https://api.github.com/repos/greatfakeman/Tabchi/commits?sha=Tabchi&per_page=100, Status code: 404, Status: Not Found, Access: ac6168f8776, IP: 0.0.0.0, Remaining: 3508',\n",
       " 'WARN, 2017-03-23T23:02:22+00:00, ghtorrent-13 -- api_client.rb: Failed request. URL: https://api.github.com/repos/greatfakeman/Tabchi/commits?sha=Tabchi&per_page=100, Status code: 404, Status: Not Found, Access: ac6168f8776, IP: 0.0.0.0, Remaining: 3633',\n",
       " 'WARN, 2017-03-23T15:02:37+00:00, ghtorrent-13 -- api_client.rb: Failed request. URL: https://api.github.com/repos/greatfakeman/Tabchi/commits?sha=Tabchi&per_page=100, Status code: 404, Status: Not Found, Access: ac6168f8776, IP: 0.0.0.0, Remaining: 4555',\n",
       " 'WARN, 2017-03-23T23:05:29+00:00, ghtorrent-13 -- api_client.rb: Failed request. URL: https://api.github.com/repos/greatfakeman/Tabchi/commits?sha=Tabchi&per_page=100, Status code: 404, Status: Not Found, Access: ac6168f8776, IP: 0.0.0.0, Remaining: 993',\n",
       " 'WARN, 2017-03-23T10:04:33+00:00, ghtorrent-13 -- api_client.rb: Failed request. URL: https://api.github.com/repos/greatfakeman/Tabchi/commits?sha=Tabchi&per_page=100, Status code: 404, Status: Not Found, Access: ac6168f8776, IP: 0.0.0.0, Remaining: 2771',\n",
       " 'WARN, 2017-03-23T16:04:55+00:00, ghtorrent-13 -- api_client.rb: Failed request. URL: https://api.github.com/repos/greatfakeman/Tabchi/commits?sha=Tabchi&per_page=100, Status code: 404, Status: Not Found, Access: ac6168f8776, IP: 0.0.0.0, Remaining: 2963',\n",
       " 'WARN, 2017-03-23T16:03:04+00:00, ghtorrent-13 -- api_client.rb: Failed request. URL: https://api.github.com/repos/greatfakeman/Tabchi/commits?sha=Tabchi&per_page=100, Status code: 404, Status: Not Found, Access: ac6168f8776, IP: 0.0.0.0, Remaining: 3927',\n",
       " 'WARN, 2017-03-23T14:01:26+00:00, ghtorrent-13 -- api_client.rb: Failed request. URL: https://api.github.com/repos/greatfakeman/Tabchi/commits?sha=Tabchi&per_page=100, Status code: 404, Status: Not Found, Access: ac6168f8776, IP: 0.0.0.0, Remaining: 4526',\n",
       " 'WARN, 2017-03-23T23:00:51+00:00, ghtorrent-13 -- api_client.rb: Failed request. URL: https://api.github.com/repos/greatfakeman/Tabchi/commits?sha=Tabchi&per_page=100, Status code: 404, Status: Not Found, Access: ac6168f8776, IP: 0.0.0.0, Remaining: 4874',\n",
       " 'WARN, 2017-03-23T16:09:45+00:00, ghtorrent-13 -- api_client.rb: Failed request. URL: https://api.github.com/repos/greatfakeman/Tabchi/commits?sha=Tabchi&per_page=100, Status code: 404, Status: Not Found, Access: ac6168f8776, IP: 0.0.0.0, Remaining: 62',\n",
       " 'WARN, 2017-03-23T13:05:07+00:00, ghtorrent-13 -- api_client.rb: Failed request. URL: https://api.github.com/repos/greatfakeman/Tabchi/commits?sha=Tabchi&per_page=100, Status code: 404, Status: Not Found, Access: ac6168f8776, IP: 0.0.0.0, Remaining: 2081',\n",
       " 'WARN, 2017-03-23T16:03:18+00:00, ghtorrent-13 -- api_client.rb: Failed request. URL: https://api.github.com/repos/greatfakeman/Tabchi/commits?sha=Tabchi&per_page=100, Status code: 404, Status: Not Found, Access: ac6168f8776, IP: 0.0.0.0, Remaining: 3816',\n",
       " 'WARN, 2017-03-23T09:00:12+00:00, ghtorrent-18 -- api_client.rb: Failed request. URL: https://api.github.com/repos/abozadev/pongtrack?per_page=100, Status code: 404, Status: Not Found, Access: 2776f3ba0a5, IP: 0.0.0.0, Remaining: 4995',\n",
       " 'WARN, 2017-03-24T13:49:25+00:00, ghtorrent-50 -- api_client.rb: Failed request. URL: https://api.github.com/repos/idsdev/testRepo-Traceability-jauninb3?per_page=100, Status code: 404, Status: Not Found, Access: b5599cbe622, IP: 0.0.0.0, Remaining: 4699',\n",
       " 'WARN, 2017-03-23T15:05:21+00:00, ghtorrent-13 -- api_client.rb: Failed request. URL: https://api.github.com/repos/greatfakeman/Tabchi/commits?sha=Tabchi&per_page=100, Status code: 404, Status: Not Found, Access: ac6168f8776, IP: 0.0.0.0, Remaining: 3667',\n",
       " 'WARN, 2017-03-23T10:04:13+00:00, ghtorrent-13 -- api_client.rb: Failed request. URL: https://api.github.com/repos/greatfakeman/Tabchi/commits?sha=Tabchi&per_page=100, Status code: 404, Status: Not Found, Access: ac6168f8776, IP: 0.0.0.0, Remaining: 3041',\n",
       " 'WARN, 2017-03-23T13:07:33+00:00, ghtorrent-13 -- api_client.rb: Failed request. URL: https://api.github.com/repos/greatfakeman/Tabchi/commits?sha=Tabchi&per_page=100, Status code: 404, Status: Not Found, Access: ac6168f8776, IP: 0.0.0.0, Remaining: 177',\n",
       " 'WARN, 2017-03-24T00:01:06+00:00, ghtorrent-13 -- api_client.rb: Failed request. URL: https://api.github.com/repos/greatfakeman/Tabchi/commits?sha=Tabchi&per_page=100, Status code: 404, Status: Not Found, Access: ac6168f8776, IP: 0.0.0.0, Remaining: 4689',\n",
       " 'WARN, 2017-03-23T12:00:44+00:00, ghtorrent-13 -- api_client.rb: Failed request. URL: https://api.github.com/repos/greatfakeman/Tabchi/commits?sha=Tabchi&per_page=100, Status code: 404, Status: Not Found, Access: ac6168f8776, IP: 0.0.0.0, Remaining: 4769']"
      ]
     },
     "execution_count": 52,
     "metadata": {},
     "output_type": "execute_result"
    }
   ],
   "source": [
    "rdd.filter(lambda x: x.split(\",\")[0] == \"WARN\").filter(lambda x: \"URL\" in x).take(50)"
   ]
  },
  {
   "cell_type": "markdown",
   "metadata": {
    "id": "lhT_ZLTfw2eb"
   },
   "source": [
    "## Question 4: What is the most active `downloader id` for `Failed` connections?"
   ]
  },
  {
   "cell_type": "code",
   "execution_count": 85,
   "metadata": {
    "id": "zTBWuWusnJ1t"
   },
   "outputs": [
    {
     "data": {
      "text/plain": [
       "(13, 79654)"
      ]
     },
     "execution_count": 85,
     "metadata": {},
     "output_type": "execute_result"
    }
   ],
   "source": [
    "import re\n",
    "def find_id(line):\n",
    "    pattern = r'ghtorrent-(\\d+)'\n",
    "    res = re.findall(pattern,line)\n",
    "    return int(res[0])\n",
    "\n",
    "\n",
    "find_id('ghtorrent-13 -- api_client.rb: Failed request. URL: https://api.github.com/repos/greatfakeman/Tabchi/commits?sha=Tabchi&per_page=100')\n",
    "\n",
    "rdd.filter(lambda x: \"failed\" in x.lower())\\\n",
    ".map(lambda x: (find_id(x.split(\",\")[2]),1))\\\n",
    ".reduceByKey(lambda x,y : (x+y)).sortBy(lambda x: x[1], ascending=False).first()"
   ]
  },
  {
   "cell_type": "code",
   "execution_count": 84,
   "metadata": {},
   "outputs": [
    {
     "data": {
      "text/plain": [
       "(13, 79654)"
      ]
     },
     "execution_count": 84,
     "metadata": {},
     "output_type": "execute_result"
    }
   ],
   "source": [
    "rdd.filter(lambda x: \"failed\" in x.lower())\\\n",
    ".map(lambda x: (find_id(x.split(\",\")[2]),1))\\\n",
    ".groupByKey().mapValues(lambda x: sum(x)).sortBy(lambda x: x[1], ascending=False).first()"
   ]
  },
  {
   "cell_type": "markdown",
   "metadata": {
    "id": "1x_oXyUrQ_tp"
   },
   "source": [
    "## Question 5: What is the most active `repository`?"
   ]
  },
  {
   "cell_type": "code",
   "execution_count": 143,
   "metadata": {},
   "outputs": [
    {
     "data": {
      "text/plain": [
       "('ovyx/hammerheadn', 22559)"
      ]
     },
     "execution_count": 143,
     "metadata": {},
     "output_type": "execute_result"
    }
   ],
   "source": [
    "rdd.filter(lambda x: \" repo \" in x.lower())\\\n",
    ".map(lambda x: ((x.lower().split(\" repo \")[1].split(\" \")[0]),1))\\\n",
    ".reduceByKey(lambda x,y: x+y).sortBy(lambda x: x[1], ascending= False).first()"
   ]
  },
  {
   "cell_type": "markdown",
   "metadata": {
    "id": "_RiHWyZRwxKK"
   },
   "source": [
    "## [challenge] Question 6: Get the number of `Failed HTTP`requests per `hour`."
   ]
  },
  {
   "cell_type": "code",
   "execution_count": 154,
   "metadata": {
    "id": "j52YTfwker8k"
   },
   "outputs": [],
   "source": [
    "rdd_failedHttp = rdd.filter(lambda x: \"failed\" in x.lower()).filter(lambda x: \"http\" in x.lower())"
   ]
  },
  {
   "cell_type": "code",
   "execution_count": 160,
   "metadata": {},
   "outputs": [],
   "source": [
    "def hourRegex(line):\n",
    "    hour_regex = re.compile(r'\\d{4}-\\d{2}-\\d{2}T(\\d{2}):(\\d{2}):(\\d{2})\\+\\d{2}:\\d{2}')\n",
    "    match = hour_regex.match(line)\n",
    "    return match.group(1)\n"
   ]
  },
  {
   "cell_type": "code",
   "execution_count": 165,
   "metadata": {},
   "outputs": [
    {
     "data": {
      "text/plain": [
       "24"
      ]
     },
     "execution_count": 165,
     "metadata": {},
     "output_type": "execute_result"
    }
   ],
   "source": [
    "\n",
    "rdd_failedHttp.map(lambda x : (hourRegex(x.split(\",\")[1].strip()),1)).reduceByKey(lambda x ,y: x+y ).count()"
   ]
  },
  {
   "cell_type": "code",
   "execution_count": 168,
   "metadata": {},
   "outputs": [
    {
     "data": {
      "text/plain": [
       "[('11', 9227),\n",
       " ('10', 8281),\n",
       " ('12', 6849),\n",
       " ('13', 5521),\n",
       " ('20', 5490),\n",
       " ('14', 5075),\n",
       " ('00', 5040),\n",
       " ('16', 5040),\n",
       " ('01', 5040),\n",
       " ('15', 5040),\n",
       " ('17', 5040),\n",
       " ('21', 5040),\n",
       " ('22', 5040),\n",
       " ('23', 5040),\n",
       " ('18', 5040),\n",
       " ('19', 5040),\n",
       " ('09', 4078),\n",
       " ('08', 50),\n",
       " ('02', 50),\n",
       " ('06', 50),\n",
       " ('05', 50),\n",
       " ('03', 50),\n",
       " ('04', 50),\n",
       " ('07', 50)]"
      ]
     },
     "execution_count": 168,
     "metadata": {},
     "output_type": "execute_result"
    }
   ],
   "source": [
    "rdd_failedHttp.map(lambda x:(hourRegex(x.split(\",\")[1].strip()),1))\\\n",
    ".reduceByKey(lambda x,y:x+y).sortBy(lambda x: x[1], ascending=False).collect()"
   ]
  },
  {
   "cell_type": "code",
   "execution_count": null,
   "metadata": {},
   "outputs": [],
   "source": []
  }
 ],
 "metadata": {
  "colab": {
   "collapsed_sections": [],
   "name": "GHTorrent_Analytics_(RDD).ipynb",
   "provenance": []
  },
  "kernelspec": {
   "display_name": "Python 3",
   "language": "python",
   "name": "python3"
  },
  "language_info": {
   "codemirror_mode": {
    "name": "ipython",
    "version": 3
   },
   "file_extension": ".py",
   "mimetype": "text/x-python",
   "name": "python",
   "nbconvert_exporter": "python",
   "pygments_lexer": "ipython3",
   "version": "3.8.3"
  }
 },
 "nbformat": 4,
 "nbformat_minor": 1
}
